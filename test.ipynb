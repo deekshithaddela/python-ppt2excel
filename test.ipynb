{
 "cells": [
  {
   "cell_type": "code",
   "execution_count": 5,
   "source": [
    "a = [\"agustin caraballo\", \"akula mahender\", \"andrea baylor\", \"arce fede\", \"bajolek maciej\", \"bansal satyam\", \"barton audrey\", \"baruah gautam\", \"belal mohd\", \"bergeron cori\", \"beth sullivan\", \"bissell matthew\", \"brian evans\", \"caraballo agustin\", \"chandrasekharan muresh\", \"chandrasekharan muresh \", \"jackson gerald\", \"chariton craig\", \"chris hamro\", \"chris liles\", \"claudine james\", \"coop kristin\", \"cori bergeron\", \"cori hamilton\", \"dave moore\", \"dhandapani priya\", \"diane draper\", \"dogra gaurav\", \"ellis pete\", \"elston todd\", \"folger david\", \"frikkie swardt\", \"gaurav dogra\", \"gaylor tom\", \"gerald jackson\", \"greg parsons\", \"guarav dogra\", \"harry le\", \"humphris adam\", \"jackson gerald\", \"jason tice\", \"joe zak\", \"karen haberly\", \"kattamuri kishore\", \"kelly declan\", \"kundu swapnil\", \"kurtis holland\", \"langley matthew\", \"lechner christian\", \"lee terry\", \"lindquist scott\", \"madhav nikhil\", \"mahender akula\", \"mariani gabriela\", \"matthew bissell\", \"may keith\", \"mays jenny\", \"mena paul\", \"michael nygard\", \"mike nygard\", \"mohammed abdul wasay\", \"moore nancy\", \"mullins shannon\", \"munns andy\", \"muresh chandrasekharan\", \"murugesan sanjay\", \"muszynska agnieszka\", \"o'brien jim\", \"ociepa liwiusz\", \"p justin\", \"pasieka pawel\", \"patrick uckermark\", \"patti tanaka\", \"paula mascarenhas\", \"pawar gajanan\", \"perdew sean\", \"pitts shelly\", \"ponnaganti satyanarayana\", \"przybylik tomasz\", \"pujari gopal \", \"giri mallappa\", \"r kamakshi\", \"reddy chandra\", \"ron larson\", \"rowdy vinson\", \"scott morgan\", \"scott moser\", \"selvarajan manoj\", \"shannon mullins\", \"sidhu rebekah\", \"sivakumar vidhya\", \"smith suzanne\", \"stephenson michael\", \"stevenson william\", \"stokes arthur\", \"stran michael\", \"suresh vellanki\", \"suzie brown\", \"swardt frikkie\", \"tanner trigg\", \"tice jason\", \"tift mark william\", \"tina andrzejewski\", \"tiwari akshay\", \"todd elston\", \"trager danny\", \"trigg tanner\"]"
   ],
   "outputs": [],
   "metadata": {}
  },
  {
   "cell_type": "code",
   "execution_count": 10,
   "source": [
    "b=[i.split(\" \")[0] for i in a]\r\n",
    "c=[i.split(\" \")[1] for i in a]\r\n",
    "len(a)"
   ],
   "outputs": [
    {
     "output_type": "execute_result",
     "data": {
      "text/plain": [
       "107"
      ]
     },
     "metadata": {},
     "execution_count": 10
    }
   ],
   "metadata": {}
  },
  {
   "cell_type": "code",
   "execution_count": 13,
   "source": [
    "n = len(c)\r\n",
    "for i in b:\r\n",
    "    if i in c:\r\n",
    "        n-=1\r\n",
    "n"
   ],
   "outputs": [
    {
     "output_type": "execute_result",
     "data": {
      "text/plain": [
       "76"
      ]
     },
     "metadata": {},
     "execution_count": 13
    }
   ],
   "metadata": {}
  },
  {
   "cell_type": "code",
   "execution_count": 12,
   "source": [
    "n"
   ],
   "outputs": [
    {
     "output_type": "execute_result",
     "data": {
      "text/plain": [
       "75"
      ]
     },
     "metadata": {},
     "execution_count": 12
    }
   ],
   "metadata": {}
  }
 ],
 "metadata": {
  "orig_nbformat": 4,
  "language_info": {
   "name": "python",
   "version": "3.9.1",
   "mimetype": "text/x-python",
   "codemirror_mode": {
    "name": "ipython",
    "version": 3
   },
   "pygments_lexer": "ipython3",
   "nbconvert_exporter": "python",
   "file_extension": ".py"
  },
  "kernelspec": {
   "name": "python3",
   "display_name": "Python 3.9.1 64-bit"
  },
  "interpreter": {
   "hash": "1b7182746dea1186a88ac5e59414a8b8216209754bc91d5148190c42c264bf89"
  }
 },
 "nbformat": 4,
 "nbformat_minor": 2
}